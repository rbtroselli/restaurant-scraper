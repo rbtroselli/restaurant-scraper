{
 "cells": [
  {
   "cell_type": "markdown",
   "metadata": {},
   "source": [
    "# Load raw CSV into SQLite DB"
   ]
  },
  {
   "cell_type": "code",
   "execution_count": 2,
   "metadata": {},
   "outputs": [],
   "source": [
    "import sqlite3\n",
    "import pandas as pd"
   ]
  },
  {
   "cell_type": "code",
   "execution_count": 3,
   "metadata": {},
   "outputs": [],
   "source": [
    "# create connection to db and cursor\n",
    "connection = sqlite3.connect('advisor.db')\n",
    "cursor = connection.cursor()"
   ]
  },
  {
   "cell_type": "code",
   "execution_count": 4,
   "metadata": {},
   "outputs": [
    {
     "data": {
      "text/plain": [
       "<sqlite3.Cursor at 0x11ae10180>"
      ]
     },
     "execution_count": 4,
     "metadata": {},
     "output_type": "execute_result"
    }
   ],
   "source": [
    "# create RESTAURANT table\n",
    "cursor.execute('drop table if exists RESTAURANT')\n",
    "cursor.execute('''\n",
    "    create table RESTAURANT (\n",
    "        ID integer primary key,\n",
    "        RESTAURANT_ID text,\n",
    "        NAME text,\n",
    "        RANK real,\n",
    "        ADDRESS text,\n",
    "        PHONE text,\n",
    "        AVG_PRICE text,\n",
    "        URL text,\n",
    "        INSERT_UPDATE_TIMESTAMP datetime default current_timestamp\n",
    "    )\n",
    "''')\n",
    "\n",
    "# create REVIEW table\n",
    "cursor.execute('drop table if exists REVIEW')\n",
    "cursor.execute('''\n",
    "    create table REVIEW (\n",
    "        ID integer primary key,\n",
    "        RESTAURANT_ID text,\n",
    "        USER text,\n",
    "        DATE datetime,\n",
    "        VOTE integer,\n",
    "        TITLE text,\n",
    "        TEXT text,\n",
    "        URL text,\n",
    "        INSERT_UPDATE_TIMESTAMP datetime default current_timestamp\n",
    "    )\n",
    "''')"
   ]
  },
  {
   "cell_type": "code",
   "execution_count": 5,
   "metadata": {},
   "outputs": [
    {
     "data": {
      "text/plain": [
       "34959"
      ]
     },
     "execution_count": 5,
     "metadata": {},
     "output_type": "execute_result"
    }
   ],
   "source": [
    "# load restaurant csv into RESTAURANT table\n",
    "df_restaurant = pd.read_csv('restaurant.csv', sep='|')\n",
    "df_restaurant.to_sql('RESTAURANT', connection, if_exists='append', index = False)\n",
    "\n",
    "# load review csv into REVIEW table\n",
    "df_restaurant = pd.read_csv('review.csv', sep='|')\n",
    "df_restaurant.to_sql('REVIEW', connection, if_exists='append', index = False)"
   ]
  }
 ],
 "metadata": {
  "kernelspec": {
   "display_name": "Python 3.9.15 ('nb_scraper')",
   "language": "python",
   "name": "python3"
  },
  "language_info": {
   "codemirror_mode": {
    "name": "ipython",
    "version": 3
   },
   "file_extension": ".py",
   "mimetype": "text/x-python",
   "name": "python",
   "nbconvert_exporter": "python",
   "pygments_lexer": "ipython3",
   "version": "3.9.15 (main, Nov 24 2022, 08:28:41) \n[Clang 14.0.6 ]"
  },
  "orig_nbformat": 4,
  "vscode": {
   "interpreter": {
    "hash": "496b3c7a61239d61b70a44db63e2fac8cb6ae2a60bc857841444e5bb2b5253ce"
   }
  }
 },
 "nbformat": 4,
 "nbformat_minor": 2
}
